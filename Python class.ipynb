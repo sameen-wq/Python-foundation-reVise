{
 "cells": [
  {
   "cell_type": "markdown",
   "id": "c354f472-a2b1-45aa-b3aa-f6149b608fb5",
   "metadata": {},
   "source": [
    "#Second day\n",
    "##second class\n",
    "*Python"
   ]
  },
  {
   "cell_type": "code",
   "execution_count": 3,
   "id": "9537e50e-2505-4b3b-87d2-ca6c5a10b7a3",
   "metadata": {},
   "outputs": [
    {
     "name": "stdout",
     "output_type": "stream",
     "text": [
      "Sameen and 24\n"
     ]
    }
   ],
   "source": [
    "a= \"Sameen\"\n",
    "b = 24\n",
    "print(f\"{a} and {b}\")"
   ]
  },
  {
   "cell_type": "code",
   "execution_count": 23,
   "id": "2afaafa8-a665-40d8-b11c-7eaffa4bfbda",
   "metadata": {},
   "outputs": [
    {
     "name": "stdout",
     "output_type": "stream",
     "text": [
      "True\n",
      "True\n",
      "Ilovefood\n",
      "Hello Kathmandu\n",
      "I AM SAMEEN KUNWAR FROM POKHARA\n",
      "now i live in kathmandu\n"
     ]
    }
   ],
   "source": [
    "a = \"I am Sameen Kunwar from pokhara\"\n",
    "b = \"NOW I LIVE IN KATHMANDU\"\n",
    "c = \"hello kathmandu\"\n",
    "d = \"Ilovefood\"\n",
    "print(a.startswith('I a'))\n",
    "print(b.endswith('U'))\n",
    "print(d.strip())\n",
    "print(c.title())\n",
    "print(a.upper())\n",
    "print(b.lower())"
   ]
  },
  {
   "cell_type": "code",
   "execution_count": 29,
   "id": "53d4bb94-a1c6-411c-a98e-8ef4d806c5d6",
   "metadata": {},
   "outputs": [
    {
     "name": "stdout",
     "output_type": "stream",
     "text": [
      "['Hello', 'me', 'how', 'are', 'you']\n"
     ]
    }
   ],
   "source": [
    "x = \"Hello me how are you\"\n",
    "y = \"gxhjsg%bxbhgaskhx$jhx\"\n",
    "print(x.split(' '))"
   ]
  },
  {
   "cell_type": "code",
   "execution_count": 34,
   "id": "94692c4f-5b1e-4af4-8cc9-18dcb1c8f822",
   "metadata": {},
   "outputs": [
    {
     "name": "stdout",
     "output_type": "stream",
     "text": [
      "10\n"
     ]
    }
   ],
   "source": [
    "#help(str)\n",
    "y = \"jhdhcbdfbc\"\n",
    "print(len(y))\n"
   ]
  },
  {
   "cell_type": "code",
   "execution_count": 37,
   "id": "ae51a3e3-81b8-49af-a4a2-a9614151fd6e",
   "metadata": {},
   "outputs": [
    {
     "name": "stdout",
     "output_type": "stream",
     "text": [
      "My name is Sameen KUnwar and I M 24 years old\n"
     ]
    }
   ],
   "source": [
    "#formatted strig\n",
    "name = \"Sameen KUnwar\"\n",
    "age = 24\n",
    "print(f\"My name is {name} and I M {age} years old\")"
   ]
  },
  {
   "cell_type": "code",
   "execution_count": 40,
   "id": "e9c40306-97d6-43df-af56-9a50d1b89fc5",
   "metadata": {},
   "outputs": [
    {
     "name": "stdout",
     "output_type": "stream",
     "text": [
      "My mother name is Maya . She is  52\n"
     ]
    }
   ],
   "source": [
    "name = \"Maya\"\n",
    "age = 52\n",
    "print(\"My mother name is\", name,\". She is \", age)"
   ]
  },
  {
   "cell_type": "code",
   "execution_count": 42,
   "id": "dca18883-7da2-4d08-96e1-61bbedba9f85",
   "metadata": {},
   "outputs": [
    {
     "name": "stdout",
     "output_type": "stream",
     "text": [
      "My school is PATAN and location is Pulchok\n"
     ]
    }
   ],
   "source": [
    "School = \"Patan\"\n",
    "location = \"Pulchok\"\n",
    "print(f'My school is {School.upper()} and location is {location}')"
   ]
  },
  {
   "cell_type": "code",
   "execution_count": 44,
   "id": "6131dd82-188c-4194-a92f-b2a981e34c55",
   "metadata": {},
   "outputs": [
    {
     "name": "stdout",
     "output_type": "stream",
     "text": [
      "True\n"
     ]
    }
   ],
   "source": [
    "#Boolean operators\n",
    "a = ' '\n",
    "print(bool(a))\n",
    "#empty string gives False"
   ]
  },
  {
   "cell_type": "code",
   "execution_count": null,
   "id": "0c32927c-7307-41af-a0de-4e07482076b5",
   "metadata": {},
   "outputs": [],
   "source": [
    "#User Input\n",
    "name = input(\"Enter your name\")\n",
    "age = int(input(\"Enter your age\"))\n",
    "output = f\"The name of person is {name} and his age is {age}\"\n",
    "print(output)\n",
    "print(type(age))"
   ]
  },
  {
   "cell_type": "markdown",
   "id": "eb049fec-f60a-4f61-9f88-e03ba2f554bc",
   "metadata": {},
   "source": [
    "# SEcond day\n"
   ]
  },
  {
   "cell_type": "code",
   "execution_count": 1,
   "id": "29df3890-0f6a-44ba-9e82-27ca488a05fd",
   "metadata": {},
   "outputs": [],
   "source": [
    "#type conversion\n",
    "# a = 5/6 // Implicit conversion\n",
    "# float(), int() are explicit \n"
   ]
  },
  {
   "cell_type": "code",
   "execution_count": 6,
   "id": "88c6d4de-af4f-4442-ae91-140eb8e9d293",
   "metadata": {},
   "outputs": [
    {
     "name": "stdout",
     "output_type": "stream",
     "text": [
      "True\n",
      "True\n"
     ]
    }
   ],
   "source": [
    "a = 'sunney'\n",
    "b = True\n",
    "print(isinstance(a, str))\n",
    "print(isinstance(b, bool))"
   ]
  },
  {
   "cell_type": "code",
   "execution_count": 8,
   "id": "010cba80-3a76-4e82-b4ff-6fb1c7037e57",
   "metadata": {},
   "outputs": [
    {
     "name": "stdout",
     "output_type": "stream",
     "text": [
      "<class 'int'>\n",
      "<class 'str'>\n"
     ]
    }
   ],
   "source": [
    "# python use dynamic typing, java use static typing\n",
    "# dynamic typing\n",
    "x = 45\n",
    "print(type(x))\n",
    "x = 'hy'\n",
    "print(type(x))\n",
    "# static typing\n",
    "# int x = 45\n",
    "# x = 'hr', wrong in compatible"
   ]
  },
  {
   "cell_type": "code",
   "execution_count": 10,
   "id": "76bb921c-729c-4a59-86d0-80c7178bfe53",
   "metadata": {},
   "outputs": [
    {
     "name": "stdout",
     "output_type": "stream",
     "text": [
      "5\n",
      "True\n"
     ]
    }
   ],
   "source": [
    "b = 5 \n",
    "print(b)\n",
    "c=b==5\n",
    "print(c)"
   ]
  },
  {
   "cell_type": "code",
   "execution_count": 15,
   "id": "fc067694-4df1-40ad-ae9c-aaac1d6e32a1",
   "metadata": {},
   "outputs": [
    {
     "name": "stdout",
     "output_type": "stream",
     "text": [
      "True\n",
      "True\n",
      "True\n",
      "False\n"
     ]
    }
   ],
   "source": [
    "a = 4\n",
    "b = 2\n",
    "print(a > 2)\n",
    "print(a !=2)\n",
    "print(a>=4)\n",
    "print(b < 1)"
   ]
  },
  {
   "cell_type": "code",
   "execution_count": 16,
   "id": "5ed5ee13-355f-4106-9f4d-5a6bdc6babc6",
   "metadata": {},
   "outputs": [
    {
     "name": "stdout",
     "output_type": "stream",
     "text": [
      "False\n",
      "False\n",
      "True\n"
     ]
    }
   ],
   "source": [
    "a = 1\n",
    "b = False\n",
    "print(a and b)\n",
    "print(a and b)\n",
    "print(not b)\n"
   ]
  },
  {
   "cell_type": "code",
   "execution_count": 21,
   "id": "4d97226f-457c-41bc-9f4d-39e2387ddb95",
   "metadata": {},
   "outputs": [
    {
     "name": "stdout",
     "output_type": "stream",
     "text": [
      "True\n",
      "True\n",
      "0\n",
      "True\n"
     ]
    }
   ],
   "source": [
    "a = 0\n",
    "b = True\n",
    "print(not a)\n",
    "print(isinstance(b, bool))\n",
    "print(a and b)\n",
    "print(a or b)"
   ]
  },
  {
   "cell_type": "code",
   "execution_count": 24,
   "id": "4d3e75b7-5c49-4afa-904c-99f8404290a2",
   "metadata": {},
   "outputs": [
    {
     "name": "stdout",
     "output_type": "stream",
     "text": [
      "nice\n"
     ]
    }
   ],
   "source": [
    "a = True\n",
    "a and print('nice')"
   ]
  },
  {
   "cell_type": "code",
   "execution_count": 28,
   "id": "7b60d767-533f-4d4f-825e-6038ad8eb8d5",
   "metadata": {},
   "outputs": [
    {
     "name": "stdout",
     "output_type": "stream",
     "text": [
      "10\n",
      "1\n"
     ]
    }
   ],
   "source": [
    "a = 5\n",
    "b = 10\n",
    "a += a\n",
    "b *= b\n",
    "b //= b\n",
    "print(a)\n",
    "print(b)"
   ]
  },
  {
   "cell_type": "code",
   "execution_count": 29,
   "id": "19067283-4ac0-49a0-890c-c091cdc581d9",
   "metadata": {},
   "outputs": [
    {
     "data": {
      "text/plain": [
       "-7"
      ]
     },
     "execution_count": 29,
     "metadata": {},
     "output_type": "execute_result"
    }
   ],
   "source": [
    "a = 6\n",
    "~a"
   ]
  },
  {
   "cell_type": "code",
   "execution_count": 32,
   "id": "dd031426-ed5d-4136-b3a1-d8533a34de84",
   "metadata": {},
   "outputs": [
    {
     "name": "stdout",
     "output_type": "stream",
     "text": [
      "True\n",
      "False\n",
      "False\n"
     ]
    }
   ],
   "source": [
    "# membership operator\n",
    "a = 'Sunney'\n",
    "print('S' in a)\n",
    "print('a' in a)\n",
    "print('y' not in a)"
   ]
  },
  {
   "cell_type": "code",
   "execution_count": 33,
   "id": "c33ff1f3-c8a7-4a16-a837-75949369e02c",
   "metadata": {},
   "outputs": [
    {
     "name": "stdout",
     "output_type": "stream",
     "text": [
      "True\n"
     ]
    }
   ],
   "source": [
    "b = 'I am fromm Nepal'\n",
    "print('am' in b)\n"
   ]
  },
  {
   "cell_type": "code",
   "execution_count": 34,
   "id": "7627dd0e-6700-425a-90b5-094058fc0364",
   "metadata": {},
   "outputs": [
    {
     "name": "stdout",
     "output_type": "stream",
     "text": [
      "True\n",
      "True\n",
      "True\n"
     ]
    }
   ],
   "source": [
    "a = 15\n",
    "b = 15\n",
    "c = b\n",
    "print(a is b)\n",
    "print(a is c)\n",
    "print(b is c)"
   ]
  },
  {
   "cell_type": "code",
   "execution_count": 35,
   "id": "61b4cc07-8dc8-47b0-8577-22b6a5fbdb7a",
   "metadata": {},
   "outputs": [
    {
     "name": "stdout",
     "output_type": "stream",
     "text": [
      "True\n"
     ]
    }
   ],
   "source": [
    "a = -1\n",
    "b = -1\n",
    "print(a is b)"
   ]
  },
  {
   "cell_type": "code",
   "execution_count": 37,
   "id": "85644066-7170-4303-99fb-a51f96bb2814",
   "metadata": {},
   "outputs": [
    {
     "name": "stdout",
     "output_type": "stream",
     "text": [
      "False\n",
      "False\n"
     ]
    }
   ],
   "source": [
    "a = 500\n",
    "b = 500\n",
    "b = c\n",
    "print(a is b)\n",
    "print(a is c)"
   ]
  },
  {
   "cell_type": "markdown",
   "id": "9157f682-0c19-4df9-ac61-93add9eeaff2",
   "metadata": {},
   "source": [
    "#Assignment 2"
   ]
  },
  {
   "cell_type": "code",
   "execution_count": 41,
   "id": "43678d65-9cd1-440f-a021-aa8889f2349a",
   "metadata": {},
   "outputs": [
    {
     "name": "stdin",
     "output_type": "stream",
     "text": [
      "Enter  your birth year  2000\n"
     ]
    },
    {
     "name": "stdout",
     "output_type": "stream",
     "text": [
      "Current age: 24\n"
     ]
    }
   ],
   "source": [
    "DOB = int(input('Enter  your birth year '))\n",
    "Curr_age = 2024 - DOB\n",
    "print('Current age:', Curr_age)"
   ]
  },
  {
   "cell_type": "code",
   "execution_count": 42,
   "id": "a053d440-8967-46cb-8bd2-cdcd58bc0d43",
   "metadata": {},
   "outputs": [
    {
     "name": "stdin",
     "output_type": "stream",
     "text": [
      "Enter Celcius degree 0\n"
     ]
    },
    {
     "name": "stdout",
     "output_type": "stream",
     "text": [
      "32.0\n"
     ]
    }
   ],
   "source": [
    "celcius = float(input('Enter Celcius degree'))\n",
    "Fah = celcius * 9/5 + 32\n",
    "print(Fah)"
   ]
  },
  {
   "cell_type": "code",
   "execution_count": 1,
   "id": "a61e1453-450e-4a44-8e59-ec16673ee838",
   "metadata": {},
   "outputs": [
    {
     "name": "stdin",
     "output_type": "stream",
     "text": [
      "Enter an age:  22\n"
     ]
    },
    {
     "name": "stdout",
     "output_type": "stream",
     "text": [
      "True\n",
      "Qualified\n"
     ]
    }
   ],
   "source": [
    "age = int(input('Enter an age: '))\n",
    "print(age > 16 and age < 65)\n",
    "True and print('Qualified')"
   ]
  },
  {
   "cell_type": "code",
   "execution_count": 12,
   "id": "53284885-7de9-4d11-a9ed-af8a6ea031e2",
   "metadata": {},
   "outputs": [
    {
     "name": "stdin",
     "output_type": "stream",
     "text": [
      "Enter your password  \n"
     ]
    },
    {
     "name": "stdout",
     "output_type": "stream",
     "text": [
      "False\n",
      "False\n",
      "False\n",
      "False\n"
     ]
    }
   ],
   "source": [
    "password = input('Enter your password ')\n",
    "print(password.isalpha())\n",
    "print(len(password) > 8)\n",
    "print(len(password.upper()) > 1)\n",
    "print(len(password) >= 1)\n"
   ]
  },
  {
   "cell_type": "code",
   "execution_count": 13,
   "id": "2040ffbc-5a34-47d0-acd0-3b5d9e64ad02",
   "metadata": {},
   "outputs": [
    {
     "name": "stdin",
     "output_type": "stream",
     "text": [
      "Enter a valid email  skylersameen1@gmail.com\n"
     ]
    },
    {
     "name": "stdout",
     "output_type": "stream",
     "text": [
      "True\n",
      "True\n",
      "valid\n"
     ]
    }
   ],
   "source": [
    "email = input('Enter a valid email ')\n",
    "print('@' in email)\n",
    "print('.' in email)\n",
    "True and print('valid')"
   ]
  },
  {
   "cell_type": "code",
   "execution_count": 19,
   "id": "97da0132-b1ba-4f54-aba5-28a38506db2e",
   "metadata": {},
   "outputs": [
    {
     "name": "stdout",
     "output_type": "stream",
     "text": [
      "you are child\n"
     ]
    }
   ],
   "source": [
    "age = 15\n",
    "if age >= 18:\n",
    "    print('you are grown up')\n",
    "elif age>= 16:\n",
    "    print('you are growm up in Nepal')\n",
    "else:\n",
    "    print('you are child')\n"
   ]
  },
  {
   "cell_type": "markdown",
   "id": "a9139db2-b663-41e8-b1cc-65ada19ab087",
   "metadata": {},
   "source": [
    "age = 15\n",
    "if age >= 18:\n",
    "    print('you are grown up')\n",
    "elif age>= 16:\n",
    "    print('you are growm up in Nepal')\n",
    "else:\n",
    "    print('you are child')\n",
    "    "
   ]
  },
  {
   "cell_type": "code",
   "execution_count": 25,
   "id": "1d1bf90d-6d80-4125-9bcc-31f9fb7b95a0",
   "metadata": {},
   "outputs": [
    {
     "name": "stdin",
     "output_type": "stream",
     "text": [
      "Enter age  20\n"
     ]
    },
    {
     "name": "stdout",
     "output_type": "stream",
     "text": [
      "check license\n",
      "Age is greater but has got no license\n"
     ]
    }
   ],
   "source": [
    "age = int(input('Enter age '))\n",
    "has_license = False\n",
    "if age > 18:\n",
    "    print('check license')\n",
    "    if has_license:\n",
    "        print('age is fine and you can go')\n",
    "    else:\n",
    "        print('Age is greater but has got no license')\n",
    "else:\n",
    "    print('Pay fine')"
   ]
  },
  {
   "cell_type": "code",
   "execution_count": 29,
   "id": "1b5ed594-ab5f-454b-aa85-b2cf0474bcab",
   "metadata": {},
   "outputs": [
    {
     "name": "stdin",
     "output_type": "stream",
     "text": [
      "Enter age:  20\n"
     ]
    },
    {
     "name": "stdout",
     "output_type": "stream",
     "text": [
      "Check license\n"
     ]
    },
    {
     "name": "stdin",
     "output_type": "stream",
     "text": [
      "Has license or not, true or false:  False\n"
     ]
    },
    {
     "name": "stdout",
     "output_type": "stream",
     "text": [
      "Age is greater but has got no license\n"
     ]
    }
   ],
   "source": [
    "age = int(input(\"Enter age: \"))\n",
    "if age > 18:\n",
    "    print(\"Check license\")\n",
    "    has_license = input(\"Has license or not, true or false: \").lower() == 'true'\n",
    "    if has_license:\n",
    "        print(\"Age is fine and you can go\")\n",
    "    else:\n",
    "        print(\"Age is greater but has got no license\")\n",
    "else:\n",
    "    print(\"Pay fine\")\n"
   ]
  },
  {
   "cell_type": "code",
   "execution_count": 51,
   "id": "9004d486-0eb3-4c55-82f9-9ce1b89d6155",
   "metadata": {},
   "outputs": [
    {
     "name": "stdout",
     "output_type": "stream",
     "text": [
      "0\n",
      "<class 'int'>\n",
      "1\n",
      "<class 'int'>\n",
      "2\n",
      "<class 'int'>\n",
      "3\n",
      "<class 'int'>\n",
      "4\n",
      "<class 'int'>\n",
      "5\n",
      "<class 'int'>\n",
      "6\n",
      "<class 'int'>\n",
      "7\n",
      "<class 'int'>\n",
      "8\n",
      "<class 'int'>\n",
      "9\n",
      "<class 'int'>\n",
      "10\n",
      "<class 'int'>\n"
     ]
    }
   ],
   "source": [
    "for i in range(11):\n",
    " print(i)\n",
    " print(type(i))"
   ]
  },
  {
   "cell_type": "code",
   "execution_count": 34,
   "id": "650491ed-37ae-4b13-b51e-e5d36cf2336c",
   "metadata": {},
   "outputs": [
    {
     "name": "stdout",
     "output_type": "stream",
     "text": [
      "1\n",
      "2\n",
      "3\n",
      "4\n",
      "5\n"
     ]
    }
   ],
   "source": [
    "for i in range(1,6):\n",
    "    print(i)"
   ]
  },
  {
   "cell_type": "code",
   "execution_count": 35,
   "id": "4667439c-0fbc-4a1d-90ff-0f39ddb39482",
   "metadata": {},
   "outputs": [
    {
     "name": "stdout",
     "output_type": "stream",
     "text": [
      "0\n",
      "1\n",
      "2\n",
      "3\n",
      "4\n",
      "6\n",
      "7\n",
      "8\n"
     ]
    }
   ],
   "source": [
    "for i in range(9):\n",
    "    if i !=5:\n",
    "        print(i)"
   ]
  },
  {
   "cell_type": "code",
   "execution_count": 36,
   "id": "a612601a-1b4c-4374-9cef-7e2e3433c1ff",
   "metadata": {},
   "outputs": [
    {
     "name": "stdout",
     "output_type": "stream",
     "text": [
      "0\n",
      "1\n",
      "2\n",
      "3\n",
      "4\n"
     ]
    }
   ],
   "source": [
    "for i in range(5):\n",
    "    if i == 5:\n",
    "        continue\n",
    "    print(i)\n",
    "    "
   ]
  },
  {
   "cell_type": "code",
   "execution_count": 37,
   "id": "806d3775-83e0-47d5-8cb5-3ef81f45f3e2",
   "metadata": {},
   "outputs": [
    {
     "name": "stdout",
     "output_type": "stream",
     "text": [
      "s\n",
      "u\n",
      "n\n",
      "n\n",
      "e\n",
      "y\n"
     ]
    }
   ],
   "source": [
    "a = 'sunney'\n",
    "for each_char in a:\n",
    "    print(each_char)\n",
    "    "
   ]
  },
  {
   "cell_type": "code",
   "execution_count": 38,
   "id": "0c2c4c77-47c0-4b7c-91f3-37f154a89e40",
   "metadata": {},
   "outputs": [
    {
     "name": "stdout",
     "output_type": "stream",
     "text": [
      "0\n",
      "1\n",
      "2\n",
      "3\n",
      "4\n"
     ]
    }
   ],
   "source": [
    "for i in range(5):\n",
    "    if i == 5:\n",
    "        break\n",
    "    print(i)"
   ]
  },
  {
   "cell_type": "code",
   "execution_count": 50,
   "id": "5ab96c9b-7999-421a-9674-500ab6d07b49",
   "metadata": {},
   "outputs": [
    {
     "name": "stdout",
     "output_type": "stream",
     "text": [
      "Even numbers : 2\n",
      "Even numbers : 4\n",
      "Even numbers : 6\n",
      "Even numbers : 8\n",
      "Even numbers : 10\n"
     ]
    }
   ],
   "source": [
    "for i in range(1,11):\n",
    "    if i % 2 == 0:\n",
    "        print(f'Even numbers : {i}')\n"
   ]
  },
  {
   "cell_type": "code",
   "execution_count": 48,
   "id": "48d7a2b8-931e-41c4-93fb-c2055a942589",
   "metadata": {},
   "outputs": [
    {
     "name": "stdout",
     "output_type": "stream",
     "text": [
      "1\n",
      "3\n",
      "5\n",
      "7\n",
      "9\n"
     ]
    }
   ],
   "source": [
    "for i in range(1,10):\n",
    "    if i % 2 !=0:\n",
    "        print(i)"
   ]
  },
  {
   "cell_type": "markdown",
   "id": "812f633d-2bbb-4a2b-b9cd-bf313dc66fd9",
   "metadata": {},
   "source": [
    "#Assignment"
   ]
  },
  {
   "cell_type": "code",
   "execution_count": 2,
   "id": "5d1c901a-acf2-43f6-b1f3-2bb02f809f5b",
   "metadata": {},
   "outputs": [
    {
     "name": "stdin",
     "output_type": "stream",
     "text": [
      "Enter a number  2020\n"
     ]
    },
    {
     "name": "stdout",
     "output_type": "stream",
     "text": [
      "yes, its a leap year\n"
     ]
    }
   ],
   "source": [
    "number = int(input('Enter a number '))\n",
    "if number % 4 == 0 and number % 100 != 0:\n",
    "    print(\"yes, its a leap year\")\n",
    "else:\n",
    "    print('not a leap year')"
   ]
  },
  {
   "cell_type": "code",
   "execution_count": 19,
   "id": "a2524754-0bc5-4c1a-910a-46c8d58e964f",
   "metadata": {},
   "outputs": [
    {
     "name": "stdin",
     "output_type": "stream",
     "text": [
      "Enter a text i m sameen kunwar\n"
     ]
    },
    {
     "name": "stdout",
     "output_type": "stream",
     "text": [
      "6\n"
     ]
    }
   ],
   "source": [
    "text = input('Enter a text')\n",
    "vowels = 'aeiouAEIOU'\n",
    "count = 0\n",
    "for char in text:\n",
    "    if char in vowels:\n",
    "       count+= 1\n",
    "print(count)"
   ]
  },
  {
   "cell_type": "code",
   "execution_count": 20,
   "id": "5b01ff47-ece0-4bf6-8f10-357f06f5c0ff",
   "metadata": {},
   "outputs": [
    {
     "name": "stdin",
     "output_type": "stream",
     "text": [
      "Enter items prices : 22 1.6 33\n"
     ]
    },
    {
     "name": "stdout",
     "output_type": "stream",
     "text": [
      "total: 56.6\n"
     ]
    }
   ],
   "source": [
    "price = input('Enter items prices :').split()\n",
    "total = 0\n",
    "for price in price:\n",
    "    total += float(price)\n",
    "print('total:', total)\n",
    "\n"
   ]
  },
  {
   "cell_type": "code",
   "execution_count": 23,
   "id": "b0c9d27b-b8f7-4303-8e3c-258655355892",
   "metadata": {},
   "outputs": [
    {
     "name": "stdin",
     "output_type": "stream",
     "text": [
      "Enter a year:  2020\n"
     ]
    },
    {
     "name": "stdout",
     "output_type": "stream",
     "text": [
      "It is just divisible by 4, so it is a leap year.\n"
     ]
    }
   ],
   "source": [
    "year = int(input(\"Enter a year: \"))\n",
    "if year % 4 == 0:\n",
    "    if year % 100 == 0:\n",
    "        if year % 400 == 0:\n",
    "            print(\"It is divisible by all; it is a leap year.\")\n",
    "        else:\n",
    "            print(\"It is divisible by 100 and 4, but not by 400, so not a leap year.\")\n",
    "    else:\n",
    "        print(\"It is just divisible by 4, so it is a leap year.\")\n",
    "else:\n",
    "    print(\"It is not divisible by 4, so it is not a leap year.\")\n",
    "\n",
    "\n",
    "\n",
    "         "
   ]
  },
  {
   "cell_type": "code",
   "execution_count": 27,
   "id": "b20dc7a2-77ae-48a7-ba2e-bce11657017a",
   "metadata": {},
   "outputs": [
    {
     "name": "stdout",
     "output_type": "stream",
     "text": [
      "The no of consonent letter is : 28\n"
     ]
    }
   ],
   "source": [
    "a = 'This is my favorite place in the World.'\n",
    "count = 0\n",
    "for char in a:\n",
    "    if char not in 'aeiouAEIOU':\n",
    "        count+=1\n",
    "print(f\"The no of consonent letter is : {count}\")"
   ]
  },
  {
   "cell_type": "markdown",
   "id": "bde09b66-2874-4575-8b00-4b5a94a45853",
   "metadata": {},
   "source": [
    "#Python class day"
   ]
  },
  {
   "cell_type": "code",
   "execution_count": 28,
   "id": "17502d04-4101-40bb-b26e-6a7fc1e9045a",
   "metadata": {},
   "outputs": [
    {
     "name": "stdout",
     "output_type": "stream",
     "text": [
      "0\n",
      "1\n",
      "2\n",
      "3\n",
      "4\n",
      "5\n",
      "6\n",
      "7\n",
      "8\n",
      "9\n",
      "loop successfully executes\n"
     ]
    }
   ],
   "source": [
    "count=0\n",
    "while count<10:\n",
    "    print(count)\n",
    "    count+=1\n",
    "print('loop successfully executes')"
   ]
  },
  {
   "cell_type": "code",
   "execution_count": 29,
   "id": "c249e929-82f7-4280-a2be-10cc36fd78c6",
   "metadata": {},
   "outputs": [
    {
     "name": "stdin",
     "output_type": "stream",
     "text": [
      "Enter your password  dygwyedgc\n"
     ]
    },
    {
     "name": "stdout",
     "output_type": "stream",
     "text": [
      "Access denied \n"
     ]
    },
    {
     "name": "stdin",
     "output_type": "stream",
     "text": [
      "Enter your password  message\n"
     ]
    },
    {
     "name": "stdout",
     "output_type": "stream",
     "text": [
      "Access granted \n"
     ]
    }
   ],
   "source": [
    "password=''\n",
    "correct_password = 'message'\n",
    "while password!=correct_password:\n",
    "    password=input('Enter your password ')\n",
    "    if password==correct_password:\n",
    "        print('Access granted ')\n",
    "    else:\n",
    "        print('Access denied ')"
   ]
  },
  {
   "cell_type": "code",
   "execution_count": null,
   "id": "225c042b-332e-45ea-9343-d7d00b5611d5",
   "metadata": {},
   "outputs": [
    {
     "name": "stdin",
     "output_type": "stream",
     "text": [
      "Enter a password Babita\n"
     ]
    },
    {
     "name": "stdout",
     "output_type": "stream",
     "text": [
      "Access granted\n"
     ]
    }
   ],
   "source": [
    "inputmessage=''\n",
    "correctp='Babita'\n",
    "while True: #Infinite loop\n",
    "    inputmessage=input('Enter a password')\n",
    "    if inputmessage==correctp:\n",
    "        print('Access granted')\n",
    "    else:\n",
    "        print('Acess notgranted')"
   ]
  },
  {
   "cell_type": "code",
   "execution_count": 3,
   "id": "227d6ddc-ab1c-43a1-a7f7-5d2f9515a9b1",
   "metadata": {},
   "outputs": [
    {
     "name": "stdout",
     "output_type": "stream",
     "text": [
      "1\n",
      "2\n",
      "3\n",
      "5\n",
      "6\n",
      "7\n",
      "8\n",
      "9\n",
      "10\n"
     ]
    }
   ],
   "source": [
    "for i in range(1,11):\n",
    "    if i==4:\n",
    "        continue\n",
    "    print(i)"
   ]
  },
  {
   "cell_type": "code",
   "execution_count": 2,
   "id": "f0699718-2cc7-4b51-97fe-71190b5188e5",
   "metadata": {},
   "outputs": [
    {
     "name": "stdout",
     "output_type": "stream",
     "text": [
      "1\n",
      "2\n",
      "3\n",
      "4\n",
      "6\n",
      "7\n",
      "8\n",
      "9\n",
      "10\n"
     ]
    }
   ],
   "source": [
    "count=0\n",
    "while count<10:\n",
    "    count+=1\n",
    "    if count==5:\n",
    "        continue\n",
    "    print(count)"
   ]
  },
  {
   "cell_type": "code",
   "execution_count": 7,
   "id": "786ca96f-7ca7-49fa-b604-d2078801abc5",
   "metadata": {},
   "outputs": [
    {
     "name": "stdin",
     "output_type": "stream",
     "text": [
      "Enter a number 0\n"
     ]
    },
    {
     "name": "stdout",
     "output_type": "stream",
     "text": [
      ") no\n"
     ]
    }
   ],
   "source": [
    "number=int(input('Enter a number'))\n",
    "if number>0:\n",
    "    print('+ number')\n",
    "elif number==0:\n",
    "    print(') no')\n",
    "else:\n",
    "    print('- no')\n"
   ]
  },
  {
   "cell_type": "code",
   "execution_count": 2,
   "id": "890eae5b-ba3d-4dde-a8e0-b745c003bac3",
   "metadata": {},
   "outputs": [
    {
     "name": "stdin",
     "output_type": "stream",
     "text": [
      " 3\n",
      " 4\n",
      " 5\n"
     ]
    },
    {
     "name": "stdout",
     "output_type": "stream",
     "text": [
      "c is highest\n"
     ]
    }
   ],
   "source": [
    "a=input()\n",
    "b=input()\n",
    "c=input()\n",
    "if a>b and a>c:\n",
    "    print('highest number')\n",
    "if b>a and b>c:\n",
    "    print('b is hughest')\n",
    "else:\n",
    "    print('c is highest')\n",
    "    "
   ]
  },
  {
   "cell_type": "code",
   "execution_count": 10,
   "id": "c602e507-efbf-495f-82e2-75d66332a124",
   "metadata": {},
   "outputs": [
    {
     "name": "stdin",
     "output_type": "stream",
     "text": [
      "Enter a number 4\n"
     ]
    },
    {
     "name": "stdout",
     "output_type": "stream",
     "text": [
      "0\n",
      "4\n",
      "8\n",
      "12\n",
      "16\n",
      "20\n",
      "24\n",
      "28\n",
      "32\n",
      "36\n",
      "40\n"
     ]
    }
   ],
   "source": [
    "no=int(input('Enter a number'))  \n",
    "n=0\n",
    "for n in range(0,11):\n",
    "    output=no*n\n",
    "    print(output)\n"
   ]
  },
  {
   "cell_type": "code",
   "execution_count": 22,
   "id": "534d3d71-4ecc-4217-ae15-ec9493c181e6",
   "metadata": {},
   "outputs": [
    {
     "name": "stdin",
     "output_type": "stream",
     "text": [
      "Enter a number  5\n"
     ]
    },
    {
     "name": "stdout",
     "output_type": "stream",
     "text": [
      "120\n"
     ]
    }
   ],
   "source": [
    "n = int(input('Enter a number '))\n",
    "fact=1\n",
    "while n!=0:\n",
    "    fact=fact*n\n",
    "    n-=1\n",
    "print(fact)\n",
    "    "
   ]
  },
  {
   "cell_type": "code",
   "execution_count": 23,
   "id": "3f9147f4-70c8-4485-8f55-c1c8e40648e1",
   "metadata": {},
   "outputs": [
    {
     "name": "stdout",
     "output_type": "stream",
     "text": [
      "10\n",
      "9\n",
      "8\n",
      "7\n",
      "6\n",
      "5\n",
      "4\n",
      "3\n",
      "2\n",
      "1\n"
     ]
    }
   ],
   "source": [
    "i=10\n",
    "while i!=0:\n",
    "    print(i)\n",
    "    i-=1"
   ]
  },
  {
   "cell_type": "code",
   "execution_count": 25,
   "id": "6370d2fa-d4af-48d5-9ebe-ccd91c811daa",
   "metadata": {},
   "outputs": [
    {
     "name": "stdout",
     "output_type": "stream",
     "text": [
      "p\n",
      "y\n",
      "t\n",
      "h\n",
      "o\n",
      "n\n"
     ]
    }
   ],
   "source": [
    "word='python'\n",
    "for char in word:\n",
    "    print(char)"
   ]
  },
  {
   "cell_type": "code",
   "execution_count": 27,
   "id": "6f7f12bd-895c-4c26-a673-de229b86a8bc",
   "metadata": {},
   "outputs": [
    {
     "name": "stdin",
     "output_type": "stream",
     "text": [
      "enter enter  cdhjdhj\n",
      "enter enter  exit\n"
     ]
    }
   ],
   "source": [
    "Input=''\n",
    "word='maya'\n",
    "while Input!='maya':\n",
    "    Input=input('enter enter ')\n",
    "    if Input=='exit':\n",
    "        break\n",
    "    "
   ]
  },
  {
   "cell_type": "code",
   "execution_count": 28,
   "id": "aecddc06-dec7-400f-87cb-5f891b71be3b",
   "metadata": {},
   "outputs": [
    {
     "name": "stdout",
     "output_type": "stream",
     "text": [
      "1\n",
      "2\n",
      "4\n",
      "5\n",
      "7\n",
      "8\n",
      "10\n"
     ]
    }
   ],
   "source": [
    "for i in range(1,11):\n",
    "    if i%3==0:\n",
    "        continue\n",
    "    print(i)"
   ]
  },
  {
   "cell_type": "code",
   "execution_count": 30,
   "id": "5a3fc5e1-b95e-44b1-95d0-2fbef5af7ddd",
   "metadata": {},
   "outputs": [],
   "source": [
    "for i in range(1):\n",
    "    pass"
   ]
  },
  {
   "cell_type": "markdown",
   "id": "ec8a7e86-0ae0-4bb4-919b-8eca758587d2",
   "metadata": {},
   "source": [
    "#Python Class\n"
   ]
  },
  {
   "cell_type": "code",
   "execution_count": 34,
   "id": "f0480c99-7f10-4d98-a105-578babc750f0",
   "metadata": {},
   "outputs": [
    {
     "name": "stdout",
     "output_type": "stream",
     "text": [
      "Hello \n"
     ]
    }
   ],
   "source": [
    "def test_func():\n",
    "    print('Hello ')\n",
    "test_func()"
   ]
  },
  {
   "cell_type": "code",
   "execution_count": 36,
   "id": "4fedc156-8050-45bf-84bc-c8175060d4ed",
   "metadata": {},
   "outputs": [],
   "source": [
    "def rect_area(length,breadth): #length and breadth are parameters when defini ng fucntion\n",
    "    area = length*breadth\n",
    "    return area\n",
    "    #print(length)//fucntion program ends right after return"
   ]
  },
  {
   "cell_type": "code",
   "execution_count": 39,
   "id": "d4e485e9-fdcf-4695-a630-4cb197a454ca",
   "metadata": {},
   "outputs": [
    {
     "name": "stdout",
     "output_type": "stream",
     "text": [
      "50\n"
     ]
    }
   ],
   "source": [
    "l=5\n",
    "b=10\n",
    "area_rect=rect_area(l,b)#l, b are arguments when fucntion is called\n",
    "print(area_rect)"
   ]
  },
  {
   "cell_type": "code",
   "execution_count": 40,
   "id": "69b51643-3734-4bf2-9fd1-f93573c4954a",
   "metadata": {},
   "outputs": [],
   "source": [
    "def square(radius):\n",
    "    print(radius)\n",
    "    area = 3.14 *radius*radius\n",
    "    return area\n"
   ]
  },
  {
   "cell_type": "code",
   "execution_count": 44,
   "id": "d0d4fd3d-17b7-40ff-9f9c-635bddf25172",
   "metadata": {},
   "outputs": [
    {
     "name": "stdout",
     "output_type": "stream",
     "text": [
      "Area of square is 50.24\n"
     ]
    }
   ],
   "source": [
    "r=4\n",
    "area=3.14*r*r\n",
    "print(f'Area of square is {area}')"
   ]
  },
  {
   "cell_type": "code",
   "execution_count": 45,
   "id": "65de8abc-18ab-4aed-8a53-e077b8312069",
   "metadata": {},
   "outputs": [
    {
     "name": "stdout",
     "output_type": "stream",
     "text": [
      "4\n"
     ]
    },
    {
     "data": {
      "text/plain": [
       "50.24"
      ]
     },
     "execution_count": 45,
     "metadata": {},
     "output_type": "execute_result"
    }
   ],
   "source": [
    "def square(radius):\n",
    "    print(radius)\n",
    "    area = 3.14 *radius*radius\n",
    "    return area\n",
    "square(4)"
   ]
  },
  {
   "cell_type": "code",
   "execution_count": 46,
   "id": "09ca6aaa-6c66-42c6-86b5-723599e60de7",
   "metadata": {},
   "outputs": [
    {
     "name": "stdout",
     "output_type": "stream",
     "text": [
      "2\n",
      "12.56\n"
     ]
    }
   ],
   "source": [
    "def square(radius):\n",
    "    print(radius)\n",
    "    area = 3.14 *radius*radius\n",
    "    return area\n",
    "area1=square(2)\n",
    "print(area1)"
   ]
  },
  {
   "cell_type": "code",
   "execution_count": 47,
   "id": "c3688c26-d073-4033-a813-4b3f9fecb880",
   "metadata": {},
   "outputs": [],
   "source": [
    "def square(radius):\n",
    "    print(radius)\n",
    "    area = 3.14 *radius*radius\n",
    "    print(area)"
   ]
  },
  {
   "cell_type": "code",
   "execution_count": 48,
   "id": "59d059ac-b4ba-4134-9dd8-7757de0755e7",
   "metadata": {},
   "outputs": [
    {
     "name": "stdout",
     "output_type": "stream",
     "text": [
      "2\n",
      "12.56\n",
      "None\n"
     ]
    }
   ],
   "source": [
    "a = square(2)\n",
    "print(a)"
   ]
  },
  {
   "cell_type": "code",
   "execution_count": 67,
   "id": "d808cb99-a76d-43cf-9761-737367089687",
   "metadata": {},
   "outputs": [],
   "source": [
    "def square(n):\n",
    "    result = n*n\n",
    "    return result\n",
    "    "
   ]
  },
  {
   "cell_type": "code",
   "execution_count": 68,
   "id": "5bdf0c70-bb5b-4c34-9c8d-86fd21750d24",
   "metadata": {},
   "outputs": [
    {
     "name": "stdout",
     "output_type": "stream",
     "text": [
      "100\n"
     ]
    }
   ],
   "source": [
    "print(square(10))"
   ]
  },
  {
   "cell_type": "code",
   "execution_count": 69,
   "id": "afbae7b6-92a0-461b-8000-1f79d2babf31",
   "metadata": {},
   "outputs": [
    {
     "name": "stdout",
     "output_type": "stream",
     "text": [
      "0\n",
      "1\n",
      "4\n",
      "9\n",
      "16\n",
      "25\n",
      "36\n",
      "49\n",
      "64\n",
      "81\n"
     ]
    }
   ],
   "source": [
    "for i in range(10):\n",
    "    square1 = square(i)\n",
    "    print(square1)"
   ]
  },
  {
   "cell_type": "markdown",
   "id": "bd936625-813e-4d16-90f3-8653958ee8d4",
   "metadata": {},
   "source": [
    "# functions are called first class objects"
   ]
  },
  {
   "cell_type": "code",
   "execution_count": 70,
   "id": "a2eea0f8-2787-4bbf-bd99-26f696196d87",
   "metadata": {},
   "outputs": [],
   "source": [
    "def add(a,b):\n",
    "    result=a+b\n",
    "    return result"
   ]
  },
  {
   "cell_type": "code",
   "execution_count": 71,
   "id": "1eff98fb-f546-4f83-8cfa-abfa5316c2f7",
   "metadata": {},
   "outputs": [],
   "source": [
    "b=add #variable can be assigned to function add"
   ]
  },
  {
   "cell_type": "code",
   "execution_count": 72,
   "id": "11c71ac0-4fc6-457d-b545-129c910821b8",
   "metadata": {},
   "outputs": [
    {
     "name": "stdout",
     "output_type": "stream",
     "text": [
      "3\n"
     ]
    }
   ],
   "source": [
    "sum=b(1,2)\n",
    "print(sum)"
   ]
  },
  {
   "cell_type": "code",
   "execution_count": 73,
   "id": "e48661c4-254d-49f4-b20b-f73ed5b50a91",
   "metadata": {},
   "outputs": [
    {
     "data": {
      "text/plain": [
       "5"
      ]
     },
     "execution_count": 73,
     "metadata": {},
     "output_type": "execute_result"
    }
   ],
   "source": [
    "a=len\n",
    "a('mummy')"
   ]
  },
  {
   "cell_type": "code",
   "execution_count": 74,
   "id": "c9ea79db-c8ad-4cce-bc86-f54068876b9a",
   "metadata": {},
   "outputs": [
    {
     "name": "stdout",
     "output_type": "stream",
     "text": [
      "hch\n"
     ]
    }
   ],
   "source": [
    "b=print\n",
    "b('hch')"
   ]
  },
  {
   "cell_type": "code",
   "execution_count": 75,
   "id": "d87170de-28f6-427d-a81c-54b2c14e2116",
   "metadata": {},
   "outputs": [],
   "source": [
    "#function can be passed as parameter to another functionn\n",
    "def sub(x,y):\n",
    "    return (x-y)"
   ]
  },
  {
   "cell_type": "code",
   "execution_count": 76,
   "id": "7d89edee-96f4-417c-b947-dad44df47565",
   "metadata": {},
   "outputs": [],
   "source": [
    "def double_func(sub,a,b):\n",
    "    sub1=sub(a,b)\n",
    "    result=5*sub1\n",
    "    return result"
   ]
  },
  {
   "cell_type": "code",
   "execution_count": 79,
   "id": "e70a33c6-386f-4048-9c00-3ef9570530f3",
   "metadata": {},
   "outputs": [
    {
     "name": "stdout",
     "output_type": "stream",
     "text": [
      "5\n"
     ]
    }
   ],
   "source": [
    "print(double_func(sub,5,4))"
   ]
  },
  {
   "cell_type": "code",
   "execution_count": 87,
   "id": "c65b7e9a-39ac-4e06-85a0-6873bceeba3b",
   "metadata": {},
   "outputs": [],
   "source": [
    "def total_p(MP,dis):\n",
    "    dis_a=dis*0.01*MP\n",
    "    pay=MP-dis_a\n",
    "    return pay"
   ]
  },
  {
   "cell_type": "code",
   "execution_count": 88,
   "id": "d983af87-30bd-426b-83df-146dd0217d47",
   "metadata": {},
   "outputs": [
    {
     "data": {
      "text/plain": [
       "4500.0"
      ]
     },
     "execution_count": 88,
     "metadata": {},
     "output_type": "execute_result"
    }
   ],
   "source": [
    "total_p(5000,10)"
   ]
  },
  {
   "cell_type": "markdown",
   "id": "d69aa6cd-ae00-42e9-b70e-4a35807a5d55",
   "metadata": {},
   "source": [
    "# Assignment"
   ]
  },
  {
   "cell_type": "code",
   "execution_count": 1,
   "id": "bc9c88f4-fd46-43ab-b5c0-661bf8e8efbb",
   "metadata": {},
   "outputs": [
    {
     "data": {
      "text/plain": [
       "-17.77777777777778"
      ]
     },
     "execution_count": 1,
     "metadata": {},
     "output_type": "execute_result"
    }
   ],
   "source": [
    "def c_to_f(celcius):\n",
    "    return celcius*9/5+32-celcius\n",
    "def f_to_c(fahrenheit):\n",
    "    return (fahrenheit-32)*5/9\n",
    "c_to_f(32)\n",
    "f_to_c(0)\n",
    "    "
   ]
  },
  {
   "cell_type": "code",
   "execution_count": 2,
   "id": "ddbb7bba-631b-48ba-ac02-4653d124403b",
   "metadata": {},
   "outputs": [],
   "source": [
    "def number(n):\n",
    "    if n>0:\n",
    "        print('positve')\n",
    "    if n<0:\n",
    "        print('negative')\n",
    "    if n==0:\n",
    "        print('zero no')\n",
    "    if n%2==0:\n",
    "        print('even no')\n",
    "              "
   ]
  },
  {
   "cell_type": "code",
   "execution_count": 3,
   "id": "8c50293a-7cee-4441-9901-21c5bec73c25",
   "metadata": {},
   "outputs": [
    {
     "name": "stdout",
     "output_type": "stream",
     "text": [
      "positve\n",
      "even no\n",
      "negative\n",
      "even no\n",
      "zero no\n",
      "even no\n"
     ]
    }
   ],
   "source": [
    "number(2)\n",
    "number(-2)\n",
    "number(0)\n"
   ]
  },
  {
   "cell_type": "code",
   "execution_count": 5,
   "id": "674647a9-8520-486b-9fda-7650b6ce05d3",
   "metadata": {},
   "outputs": [],
   "source": [
    "def check_eligibility(age,salary,credit):\n",
    "    if age>= 21:\n",
    "        if salary>=30000:\n",
    "            if credit>=650:\n",
    "                output='Eligible'\n",
    "                return output\n",
    "            else:\n",
    "                print('Not eligible')\n",
    "        else:\n",
    "            print('not eligible')\n",
    "    else:\n",
    "        print('not eligible')"
   ]
  },
  {
   "cell_type": "code",
   "execution_count": 6,
   "id": "9f520fe5-d2c0-4fc9-b6e6-f45e95f417f2",
   "metadata": {},
   "outputs": [
    {
     "data": {
      "text/plain": [
       "'Eligible'"
      ]
     },
     "execution_count": 6,
     "metadata": {},
     "output_type": "execute_result"
    }
   ],
   "source": [
    "check_eligibility(22,30000,700)"
   ]
  },
  {
   "cell_type": "code",
   "execution_count": 7,
   "id": "e73dbfbe-1a5f-435a-b804-6262e0a98625",
   "metadata": {},
   "outputs": [
    {
     "name": "stdout",
     "output_type": "stream",
     "text": [
      "not eligible\n"
     ]
    }
   ],
   "source": [
    "check_eligibility(22,1500,650)"
   ]
  },
  {
   "cell_type": "code",
   "execution_count": 5,
   "id": "2ce834f0-b86d-4573-ade9-f0a23fcaa462",
   "metadata": {},
   "outputs": [],
   "source": [
    "total=0\n",
    "def total_price(original_price, customer_type):\n",
    "    if customer_type=='regular':\n",
    "        total=original_price\n",
    "        print('total',total)\n",
    "    elif customer_type=='silver':\n",
    "        total=original_price-0.1*original_price\n",
    "        return total\n",
    "    elif customer_type=='Gold':\n",
    "        total=original_price-0.2*original_price\n",
    "        return total\n",
    "    else:\n",
    "        total=original_price-0.0025*original_price\n",
    "        return total\n",
    "    "
   ]
  },
  {
   "cell_type": "code",
   "execution_count": 7,
   "id": "edf1bf1e-0d6e-46e4-bb49-9c0d281721f3",
   "metadata": {},
   "outputs": [
    {
     "data": {
      "text/plain": [
       "99.75"
      ]
     },
     "execution_count": 7,
     "metadata": {},
     "output_type": "execute_result"
    }
   ],
   "source": [
    "total_price(100,'bbbb')"
   ]
  },
  {
   "cell_type": "code",
   "execution_count": 17,
   "id": "4e8dfb88-cb10-42c0-8bef-fc2de4d43eaf",
   "metadata": {},
   "outputs": [
    {
     "data": {
      "text/plain": [
       "800.0"
      ]
     },
     "execution_count": 17,
     "metadata": {},
     "output_type": "execute_result"
    }
   ],
   "source": [
    "total_price(1000,'Gold')"
   ]
  },
  {
   "cell_type": "code",
   "execution_count": 9,
   "id": "5b936794-8c57-44cc-983e-b60d53eb0f2f",
   "metadata": {},
   "outputs": [],
   "source": [
    "def is_prime(number):\n",
    "    if number>0:\n",
    "        if number%number==0:\n",
    "            if number%1==0:\n",
    "                return True\n",
    "                print(i)\n",
    "            else:\n",
    "                return False\n",
    "        else:\n",
    "            return False"
   ]
  },
  {
   "cell_type": "code",
   "execution_count": 10,
   "id": "41e9477e-12f4-40c1-9ce1-427a067c68d7",
   "metadata": {},
   "outputs": [
    {
     "data": {
      "text/plain": [
       "True"
      ]
     },
     "execution_count": 10,
     "metadata": {},
     "output_type": "execute_result"
    }
   ],
   "source": [
    "is_prime(3)"
   ]
  },
  {
   "cell_type": "code",
   "execution_count": 11,
   "id": "b1799ae4-3ccc-4903-a66a-9cfdd650d598",
   "metadata": {},
   "outputs": [
    {
     "name": "stdout",
     "output_type": "stream",
     "text": [
      "True\n",
      "True\n",
      "True\n",
      "True\n",
      "True\n",
      "True\n",
      "True\n",
      "True\n",
      "True\n",
      "True\n",
      "True\n",
      "True\n",
      "True\n",
      "True\n",
      "True\n",
      "True\n",
      "True\n",
      "True\n",
      "True\n",
      "True\n",
      "True\n",
      "True\n",
      "True\n",
      "True\n",
      "True\n",
      "True\n",
      "True\n",
      "True\n",
      "True\n",
      "True\n",
      "True\n",
      "True\n",
      "True\n",
      "True\n",
      "True\n",
      "True\n",
      "True\n",
      "True\n",
      "True\n",
      "True\n",
      "True\n",
      "True\n",
      "True\n",
      "True\n",
      "True\n",
      "True\n",
      "True\n",
      "True\n",
      "True\n",
      "True\n",
      "True\n",
      "True\n",
      "True\n",
      "True\n",
      "True\n",
      "True\n",
      "True\n",
      "True\n",
      "True\n",
      "True\n",
      "True\n",
      "True\n",
      "True\n",
      "True\n",
      "True\n",
      "True\n",
      "True\n",
      "True\n",
      "True\n",
      "True\n",
      "True\n",
      "True\n",
      "True\n",
      "True\n",
      "True\n",
      "True\n",
      "True\n",
      "True\n",
      "True\n",
      "True\n",
      "True\n",
      "True\n",
      "True\n",
      "True\n",
      "True\n",
      "True\n",
      "True\n",
      "True\n",
      "True\n",
      "True\n",
      "True\n",
      "True\n",
      "True\n",
      "True\n",
      "True\n",
      "True\n",
      "True\n",
      "True\n",
      "True\n",
      "True\n"
     ]
    }
   ],
   "source": [
    "for i in range(1,101):\n",
    "    is_prime1=is_prime(i)\n",
    "    print(is_prime1)"
   ]
  },
  {
   "cell_type": "markdown",
   "id": "c87dee60-9564-457e-bff3-489ec4397792",
   "metadata": {},
   "source": [
    "# Exception Handling"
   ]
  },
  {
   "cell_type": "code",
   "execution_count": 12,
   "id": "9b8bccc0-5817-4a91-b1fd-d952edd80edc",
   "metadata": {},
   "outputs": [],
   "source": [
    "#check upper case lette in a string\n",
    "#use isupper()"
   ]
  },
  {
   "cell_type": "code",
   "execution_count": 14,
   "id": "db13738a-4e53-4823-b582-c7f061929055",
   "metadata": {},
   "outputs": [
    {
     "data": {
      "text/plain": [
       "2"
      ]
     },
     "execution_count": 14,
     "metadata": {},
     "output_type": "execute_result"
    }
   ],
   "source": [
    "def divide(a,b):\n",
    "    return a//b\n",
    "divide(4,2)"
   ]
  },
  {
   "cell_type": "code",
   "execution_count": 26,
   "id": "0290201a-e0c4-4a63-8ad3-1b441e651208",
   "metadata": {},
   "outputs": [
    {
     "name": "stdin",
     "output_type": "stream",
     "text": [
      "Enter a number  ##\n"
     ]
    },
    {
     "name": "stdout",
     "output_type": "stream",
     "text": [
      "cant be a string \n",
      "Sameen\n"
     ]
    }
   ],
   "source": [
    "try:\n",
    "    num=int(input('Enter a number '))\n",
    "    result=6/num\n",
    "    print(result)\n",
    "except ZeroDivisionError as e:\n",
    "    print('cannt not be zero', e)\n",
    "except ValueError:\n",
    "    print('cant be a string ')\n",
    "print('Sameen')"
   ]
  },
  {
   "cell_type": "code",
   "execution_count": 28,
   "id": "98c85a6c-a3ca-4de8-8452-5346a772e477",
   "metadata": {},
   "outputs": [
    {
     "name": "stdin",
     "output_type": "stream",
     "text": [
      "Enter a number one\n"
     ]
    },
    {
     "name": "stdout",
     "output_type": "stream",
     "text": [
      "Exception occured as invalid literal for int() with base 10: 'one'\n",
      "Sameen\n"
     ]
    }
   ],
   "source": [
    "try:\n",
    "    num=int(input('Enter a number'))\n",
    "    total=10/num\n",
    "    print(result)\n",
    "except Exception as e:\n",
    "    print(f'Exception occured as {e}')\n",
    "print('Sameen')"
   ]
  },
  {
   "cell_type": "code",
   "execution_count": 29,
   "id": "2f608d9a-b1ab-431d-9e72-f234a074045e",
   "metadata": {},
   "outputs": [
    {
     "name": "stdin",
     "output_type": "stream",
     "text": [
      "enter wee\n"
     ]
    },
    {
     "name": "stdout",
     "output_type": "stream",
     "text": [
      "error occred as string index out of range\n"
     ]
    }
   ],
   "source": [
    "try:\n",
    "    word=input('enter')\n",
    "    a=word[6]\n",
    "    print(a)\n",
    "except Exception as e:\n",
    "    print(f'error occred as {e}') "
   ]
  },
  {
   "cell_type": "code",
   "execution_count": 31,
   "id": "701eaff6-5832-4263-9a29-244ca6a18caa",
   "metadata": {},
   "outputs": [
    {
     "name": "stdin",
     "output_type": "stream",
     "text": [
      "enter weeeeeeeee\n"
     ]
    },
    {
     "name": "stdout",
     "output_type": "stream",
     "text": [
      "No exception occured\n",
      "The output is e\n"
     ]
    }
   ],
   "source": [
    "try:\n",
    "    word=input('enter')\n",
    "    a=word[6]\n",
    "except Exception as e:\n",
    "    print(f'error occred as {e}') \n",
    "else:\n",
    "    print('No exception occured')\n",
    "    print(f'The output is {a}')"
   ]
  },
  {
   "cell_type": "code",
   "execution_count": 33,
   "id": "c9aa7b37-f352-4b0d-957d-4d7d64cba33c",
   "metadata": {},
   "outputs": [
    {
     "name": "stdin",
     "output_type": "stream",
     "text": [
      "enter weeeeee\n"
     ]
    },
    {
     "name": "stdout",
     "output_type": "stream",
     "text": [
      "No exception occured\n",
      "The output is e\n",
      "Exiting the slicing process\n"
     ]
    }
   ],
   "source": [
    "try:\n",
    "    word=input('enter')\n",
    "    a=word[6]\n",
    "except Exception as e:\n",
    "    print(f'error occred as {e}') \n",
    "else:\n",
    "    print('No exception occured')\n",
    "    print(f'The output is {a}')\n",
    "finally:\n",
    "    print('Exiting the slicing process')"
   ]
  },
  {
   "cell_type": "code",
   "execution_count": 38,
   "id": "b129fc52-4fdb-4948-836a-03339940d187",
   "metadata": {},
   "outputs": [
    {
     "name": "stdin",
     "output_type": "stream",
     "text": [
      "enter a message sameen\n",
      "Enter a slicing index number  2\n"
     ]
    },
    {
     "name": "stdout",
     "output_type": "stream",
     "text": [
      "No exception occured\n",
      "The output is a\n",
      "Exiting the slicing process\n"
     ]
    }
   ],
   "source": [
    "try:\n",
    "    word=input('enter a message')\n",
    "    position=int(input('Enter a slicing index number '))\n",
    "    value=word[position-1]\n",
    "except IndexError as e:\n",
    "    print(f'error occred as {e}') \n",
    "except ValueError as e:\n",
    "    print(f'error occured as {e}')\n",
    "else:\n",
    "    print('No exception occured')\n",
    "    print(f'The output is {value}')\n",
    "finally:\n",
    "    print('Exiting the slicing process')"
   ]
  },
  {
   "cell_type": "code",
   "execution_count": 39,
   "id": "10c93d64-ce3a-4c37-83d7-7a7d92758efa",
   "metadata": {},
   "outputs": [],
   "source": [
    "#custom exception: triggering exception manually by user"
   ]
  },
  {
   "cell_type": "code",
   "execution_count": 40,
   "id": "80641977-b4a7-4007-b89a-45d226bcef60",
   "metadata": {},
   "outputs": [],
   "source": [
    "def check_age(age):\n",
    "    if age<0:\n",
    "        raise ValueError('age cannot be negative')\n",
    "        return age"
   ]
  },
  {
   "cell_type": "code",
   "execution_count": 42,
   "id": "4b06f03f-9a34-4ed2-865c-8d029afb724b",
   "metadata": {},
   "outputs": [
    {
     "name": "stdin",
     "output_type": "stream",
     "text": [
      "Enter a age -5\n"
     ]
    },
    {
     "name": "stdout",
     "output_type": "stream",
     "text": [
      "eror occur as age cannot be negative\n"
     ]
    }
   ],
   "source": [
    "try:\n",
    "    age=int(input('Enter a age'))\n",
    "    age_flag=check_age(age)\n",
    "except Exception as e:\n",
    "    print(f'eror occur as {e}')\n",
    "else:\n",
    "    print(age)"
   ]
  },
  {
   "cell_type": "code",
   "execution_count": 57,
   "id": "58150928-f948-4542-ad43-182cad7c0a54",
   "metadata": {},
   "outputs": [],
   "source": [
    "#countting number of uppercase letter in python\n",
    "def count_upper(input_string):\n",
    "    count=0\n",
    "    for char in input_string:\n",
    "        if char.isupper():\n",
    "            count+=1\n",
    "    return count"
   ]
  },
  {
   "cell_type": "code",
   "execution_count": 58,
   "id": "87ce529c-4da9-4234-8e0c-e6f1e1c26b43",
   "metadata": {},
   "outputs": [
    {
     "name": "stdin",
     "output_type": "stream",
     "text": [
      "Enter an input SaMMM\n"
     ]
    },
    {
     "name": "stdout",
     "output_type": "stream",
     "text": [
      "The total upper count in a string is 3\n"
     ]
    }
   ],
   "source": [
    "input_string=input('Enter an input')\n",
    "total_count=count_upper(inputt)\n",
    "print(f'The total upper count in a string is {total_count}')"
   ]
  },
  {
   "cell_type": "markdown",
   "id": "ad098f93-5b8f-471a-8082-ab120c6fe7a0",
   "metadata": {},
   "source": [
    "# Assignment\n"
   ]
  },
  {
   "cell_type": "code",
   "execution_count": 61,
   "id": "59e0bd24-5014-4691-954e-ca6092a310fb",
   "metadata": {},
   "outputs": [],
   "source": [
    "def str_int(strr):\n",
    "    integer=int(strr)\n",
    "    return integer"
   ]
  },
  {
   "cell_type": "code",
   "execution_count": 62,
   "id": "f9a2564b-f09b-40d8-a2fe-b08ba2f98b72",
   "metadata": {},
   "outputs": [
    {
     "data": {
      "text/plain": [
       "123"
      ]
     },
     "execution_count": 62,
     "metadata": {},
     "output_type": "execute_result"
    }
   ],
   "source": [
    "str_int('123')"
   ]
  },
  {
   "cell_type": "code",
   "execution_count": 64,
   "id": "e42fb094-11cc-4332-bbdf-6df0146ed25d",
   "metadata": {},
   "outputs": [
    {
     "name": "stdin",
     "output_type": "stream",
     "text": [
      "Enter strr weee\n"
     ]
    },
    {
     "name": "stdout",
     "output_type": "stream",
     "text": [
      "error occur due to invalid literal for int() with base 10: 'weee'\n",
      "try block executed\n"
     ]
    }
   ],
   "source": [
    "try:\n",
    "    strr=input('Enter strr')\n",
    "    result=str_int(strr)\n",
    "except Exception as e:\n",
    "    print(f'error occur due to {e}')\n",
    "else:\n",
    "    print('result is ', result)\n",
    "finally:\n",
    "    print('try block executed')"
   ]
  },
  {
   "cell_type": "code",
   "execution_count": 67,
   "id": "de58bb00-12b9-4428-8ee2-6fe1fcd64926",
   "metadata": {},
   "outputs": [],
   "source": [
    " "
   ]
  },
  {
   "cell_type": "code",
   "execution_count": 68,
   "id": "455396da-2ed1-4adf-aa3f-8218ad9b684b",
   "metadata": {},
   "outputs": [
    {
     "name": "stdin",
     "output_type": "stream",
     "text": [
      "Enter a number 1\n"
     ]
    },
    {
     "name": "stdout",
     "output_type": "stream",
     "text": [
      "1\n"
     ]
    },
    {
     "name": "stdin",
     "output_type": "stream",
     "text": [
      "Enter a number 2\n"
     ]
    },
    {
     "name": "stdout",
     "output_type": "stream",
     "text": [
      "2\n"
     ]
    },
    {
     "name": "stdin",
     "output_type": "stream",
     "text": [
      "Enter a number 3\n"
     ]
    },
    {
     "name": "stdout",
     "output_type": "stream",
     "text": [
      "3\n"
     ]
    },
    {
     "name": "stdin",
     "output_type": "stream",
     "text": [
      "Enter a number 4\n"
     ]
    },
    {
     "name": "stdout",
     "output_type": "stream",
     "text": [
      "4\n"
     ]
    },
    {
     "name": "stdin",
     "output_type": "stream",
     "text": [
      "Enter a number 5\n"
     ]
    },
    {
     "name": "stdout",
     "output_type": "stream",
     "text": [
      "5\n"
     ]
    }
   ],
   "source": [
    "func(i)"
   ]
  },
  {
   "cell_type": "code",
   "execution_count": 76,
   "id": "d926fe56-f2f9-4883-b9c5-7a007568850e",
   "metadata": {},
   "outputs": [
    {
     "name": "stdout",
     "output_type": "stream",
     "text": [
      "None\n"
     ]
    }
   ],
   "source": [
    "try:\n",
    "    result=func(i)\n",
    "except Exception as e:\n",
    "    print('input error ', e)\n",
    "    i=int(input('Enter number again'))\n",
    "else:\n",
    "    print(result)\n",
    "    "
   ]
  },
  {
   "cell_type": "markdown",
   "id": "ad279684-0adb-45ae-8405-6ab502a25f1e",
   "metadata": {},
   "source": [
    "# File_Handling"
   ]
  },
  {
   "cell_type": "code",
   "execution_count": 79,
   "id": "8cdedfd5-016e-4f39-8a65-710553488024",
   "metadata": {},
   "outputs": [],
   "source": [
    "file=open('example.txt', 'r')\n"
   ]
  },
  {
   "cell_type": "code",
   "execution_count": 80,
   "id": "6b68491e-249d-4d43-bd45-a680c6366444",
   "metadata": {},
   "outputs": [
    {
     "name": "stdout",
     "output_type": "stream",
     "text": [
      "<_io.TextIOWrapper name='example.txt' mode='r' encoding='cp1252'>\n"
     ]
    }
   ],
   "source": [
    "print(file)"
   ]
  },
  {
   "cell_type": "code",
   "execution_count": 83,
   "id": "381c0213-60c4-4481-a3db-58d2226024e4",
   "metadata": {},
   "outputs": [
    {
     "name": "stdout",
     "output_type": "stream",
     "text": [
      "\n"
     ]
    }
   ],
   "source": [
    "content=file.read()\n",
    "print(content)\n",
    "file.close()"
   ]
  },
  {
   "cell_type": "code",
   "execution_count": 84,
   "id": "a8021a57-42a5-4cbd-b501-70cb6564c68c",
   "metadata": {},
   "outputs": [
    {
     "ename": "ValueError",
     "evalue": "I/O operation on closed file.",
     "output_type": "error",
     "traceback": [
      "\u001b[1;31m---------------------------------------------------------------------------\u001b[0m",
      "\u001b[1;31mValueError\u001b[0m                                Traceback (most recent call last)",
      "Cell \u001b[1;32mIn[84], line 1\u001b[0m\n\u001b[1;32m----> 1\u001b[0m \u001b[43mfile\u001b[49m\u001b[38;5;241;43m.\u001b[39;49m\u001b[43mread\u001b[49m\u001b[43m(\u001b[49m\u001b[43m)\u001b[49m\n",
      "\u001b[1;31mValueError\u001b[0m: I/O operation on closed file."
     ]
    }
   ],
   "source": [
    "file.read()"
   ]
  },
  {
   "cell_type": "markdown",
   "id": "b5b79512-6ed2-43bb-adf8-3b0386404ecb",
   "metadata": {},
   "source": [
    "# Context Manager"
   ]
  },
  {
   "cell_type": "code",
   "execution_count": 85,
   "id": "889ec21c-441e-4347-bcea-7566a2d776ea",
   "metadata": {},
   "outputs": [
    {
     "name": "stdout",
     "output_type": "stream",
     "text": [
      "sameen\n",
      "kunwar\n",
      "pokhara\n",
      "Nepal\n"
     ]
    },
    {
     "ename": "ValueError",
     "evalue": "I/O operation on closed file.",
     "output_type": "error",
     "traceback": [
      "\u001b[1;31m---------------------------------------------------------------------------\u001b[0m",
      "\u001b[1;31mValueError\u001b[0m                                Traceback (most recent call last)",
      "Cell \u001b[1;32mIn[85], line 4\u001b[0m\n\u001b[0;32m      2\u001b[0m     content\u001b[38;5;241m=\u001b[39mfile\u001b[38;5;241m.\u001b[39mread()\n\u001b[0;32m      3\u001b[0m     \u001b[38;5;28mprint\u001b[39m(content)\n\u001b[1;32m----> 4\u001b[0m content\u001b[38;5;241m=\u001b[39m\u001b[43mfile\u001b[49m\u001b[38;5;241;43m.\u001b[39;49m\u001b[43mread\u001b[49m\u001b[43m(\u001b[49m\u001b[43m)\u001b[49m\n\u001b[0;32m      5\u001b[0m \u001b[38;5;28mprint\u001b[39m(content)\n",
      "\u001b[1;31mValueError\u001b[0m: I/O operation on closed file."
     ]
    }
   ],
   "source": [
    "with open('example.txt', 'r') as file:\n",
    "    content=file.read()\n",
    "    print(content)\n",
    "content=file.read()\n",
    "print(content)"
   ]
  },
  {
   "cell_type": "code",
   "execution_count": 88,
   "id": "87b289b3-0444-4797-b6ef-9aa282ff5437",
   "metadata": {},
   "outputs": [
    {
     "name": "stdout",
     "output_type": "stream",
     "text": [
      "\n",
      " Hello Sameeen\n"
     ]
    }
   ],
   "source": [
    " with open('example.txt', 'w') as file:\n",
    "     file.write('\\n Hello Sameeen')\n",
    " with open('example.txt', 'r') as file:\n",
    "     content=file.read()\n",
    "     print(content)\n",
    "     "
   ]
  },
  {
   "cell_type": "code",
   "execution_count": 89,
   "id": "ac5a29d3-5997-4975-899a-96d60732de0a",
   "metadata": {},
   "outputs": [
    {
     "name": "stdout",
     "output_type": "stream",
     "text": [
      "\n",
      " Hello Sameeen\n",
      " Hello Sameeen\n"
     ]
    }
   ],
   "source": [
    " with open('example.txt', 'a') as file:\n",
    "     file.write('\\n Hello Sameeen')\n",
    " with open('example.txt', 'r') as file:\n",
    "     content=file.read()\n",
    "     print(content)"
   ]
  },
  {
   "cell_type": "code",
   "execution_count": 95,
   "id": "79e2aff0-5d51-41f4-a1c5-bca235924022",
   "metadata": {},
   "outputs": [
    {
     "ename": "IndentationError",
     "evalue": "unindent does not match any outer indentation level (<string>, line 3)",
     "output_type": "error",
     "traceback": [
      "\u001b[1;36m  File \u001b[1;32m<string>:3\u001b[1;36m\u001b[0m\n\u001b[1;33m    with open('example.txt', 'r') as file:\u001b[0m\n\u001b[1;37m                                          ^\u001b[0m\n\u001b[1;31mIndentationError\u001b[0m\u001b[1;31m:\u001b[0m unindent does not match any outer indentation level\n"
     ]
    }
   ],
   "source": [
    "with open('example.txt', 'a') as file:\n",
    "     file.write('\\t Hello Sameeen')\n",
    " with open('example.txt', 'r') as file:\n",
    "     content=file.read()\n",
    "     print(content)"
   ]
  },
  {
   "cell_type": "code",
   "execution_count": 96,
   "id": "d9607433-f087-4a42-bf58-69412beae0fa",
   "metadata": {},
   "outputs": [],
   "source": [
    "with open('samm.txt', 'w') as file:\n",
    "    file.write('\\n mee')"
   ]
  },
  {
   "cell_type": "code",
   "execution_count": 97,
   "id": "cfaa1437-b249-40db-bffa-2159fcc82917",
   "metadata": {},
   "outputs": [
    {
     "name": "stdout",
     "output_type": "stream",
     "text": [
      "file donot exist [Errno 2] No such file or directory: 'sameen.txt'\n"
     ]
    }
   ],
   "source": [
    "# making exception when reading file which donot exist\n",
    "file_name='sameen.txt'\n",
    "try:\n",
    "    with open(file_name, 'r') as f:\n",
    "        content=f.read()\n",
    "        print(content)\n",
    "except Exception as e:\n",
    "    print('file donot exist', e)"
   ]
  },
  {
   "cell_type": "code",
   "execution_count": 100,
   "id": "cd41affe-c8d8-48c4-857e-f2f1fe948937",
   "metadata": {},
   "outputs": [
    {
     "name": "stdout",
     "output_type": "stream",
     "text": [
      "['hahaha\\n', 'hehehe\\n', ' Hello Sameeen\\n', ' Hello Sameeen']\n"
     ]
    }
   ],
   "source": [
    " with open('example.txt', 'r') as file:\n",
    "     content=file.readlines()\n",
    "     print(content)"
   ]
  },
  {
   "cell_type": "code",
   "execution_count": 101,
   "id": "46b8a075-8bdb-40f2-bc14-1b58eceec82e",
   "metadata": {},
   "outputs": [
    {
     "name": "stdout",
     "output_type": "stream",
     "text": [
      "hahaha\n",
      "\n",
      "hehehe\n",
      "\n"
     ]
    }
   ],
   "source": [
    "with open('example.txt', 'r') as file:\n",
    "    content=file.readline()\n",
    "    print(content)\n",
    "    content=file.readline()\n",
    "    print(content)"
   ]
  },
  {
   "cell_type": "code",
   "execution_count": 105,
   "id": "a158f93b-68ca-4ec4-a04e-0a456e034145",
   "metadata": {},
   "outputs": [],
   "source": [
    "def analyse_file(filename):\n",
    "    with open(filename, 'r') as file:\n",
    "        lines = file.readlines()\n",
    "        lines_num=len(lines)\n",
    "        word_count=0\n",
    "        longest_word=''\n",
    "        for each_line in lines:\n",
    "            total_words=each_line.split()\n",
    "            for each_word in total_words:\n",
    "                word_count+=1\n",
    "                if len(each_word)>len(longest_word):\n",
    "                    longest_word=each_word\n",
    "        print('no of lines', lines_num)\n",
    "        print('no of word in file', word_count)\n",
    "        print('longest word', longest_word)"
   ]
  },
  {
   "cell_type": "code",
   "execution_count": 106,
   "id": "3e255c27-6ec4-4e7b-adac-82efff461903",
   "metadata": {},
   "outputs": [
    {
     "name": "stdout",
     "output_type": "stream",
     "text": [
      "no of lines 4\n",
      "no of word in file 6\n",
      "longest word Sameeen\n"
     ]
    }
   ],
   "source": [
    "analyse_file('example.txt')"
   ]
  },
  {
   "cell_type": "code",
   "execution_count": 107,
   "id": "956d97c3-ae58-4735-8ccd-b19f462f03cf",
   "metadata": {},
   "outputs": [],
   "source": [
    "def analyse_file(filename):\n",
    "    try:\n",
    "        with open(filename, 'r') as file:\n",
    "            lines = file.readlines()\n",
    "            lines_num=len(lines)\n",
    "            word_count=0\n",
    "            longest_word=''\n",
    "            for each_line in lines:\n",
    "                total_words=each_line.split()\n",
    "                for each_word in total_words:\n",
    "                    word_count+=1\n",
    "                    if len(each_word)>len(longest_word):\n",
    "                        longest_word=each_word\n",
    "            print('no of lines', lines_num)\n",
    "            print('no of word in file', word_count)\n",
    "            print('longest word', longest_word)\n",
    "    except Exception as e:\n",
    "        print('error as e', e)\n",
    "    "
   ]
  },
  {
   "cell_type": "code",
   "execution_count": 110,
   "id": "09c446d3-b2a3-4feb-a82b-ed9a6590ff86",
   "metadata": {},
   "outputs": [
    {
     "name": "stdout",
     "output_type": "stream",
     "text": [
      "error as e [Errno 2] No such file or directory: 'ysugxy.txt'\n"
     ]
    }
   ],
   "source": [
    "analyse_file('ysugxy.txt')"
   ]
  },
  {
   "cell_type": "code",
   "execution_count": 130,
   "id": "89c76df4-4cc2-4ad4-a2c3-a0ff1d44cb49",
   "metadata": {},
   "outputs": [
    {
     "data": {
      "text/plain": [
       "10"
      ]
     },
     "execution_count": 130,
     "metadata": {},
     "output_type": "execute_result"
    }
   ],
   "source": [
    "def sum_of_digits(number):\n",
    "    number=abs(number)\n",
    "    str_num=str(number)\n",
    "    sum=0\n",
    "    for each_num in str_num:\n",
    "        each_num=abs(int(each_num))\n",
    "        sum+=int(each_num)\n",
    "    return sum\n",
    "sum_of_digits(-123-4)"
   ]
  },
  {
   "cell_type": "code",
   "execution_count": 137,
   "id": "3cd3f46c-f708-4224-8a96-52a1f54b830b",
   "metadata": {},
   "outputs": [],
   "source": [
    "def sum_of_number(number):\n",
    "    str_num=str(number)\n",
    "    sum=0\n",
    "    i=0\n",
    "    while i<len(str_num):\n",
    "        if str_num[i]=='-':\n",
    "            number=int(str_num[i]+str_num[i+1])\n",
    "            sum+=number\n",
    "            i+=2\n",
    "        else:\n",
    "            sum+=int(str_num[i])\n",
    "            i+=1\n",
    "    return sum\n",
    "        "
   ]
  },
  {
   "cell_type": "code",
   "execution_count": 144,
   "id": "114aa4d0-2ebc-4313-965d-1f4a9313ccb9",
   "metadata": {},
   "outputs": [
    {
     "data": {
      "text/plain": [
       "4"
      ]
     },
     "execution_count": 144,
     "metadata": {},
     "output_type": "execute_result"
    }
   ],
   "source": [
    "sum_of_number(1-234)"
   ]
  },
  {
   "cell_type": "code",
   "execution_count": 140,
   "id": "3595fc75-67aa-4fe1-aa03-23d83826ac93",
   "metadata": {},
   "outputs": [
    {
     "data": {
      "text/plain": [
       "0"
      ]
     },
     "execution_count": 140,
     "metadata": {},
     "output_type": "execute_result"
    }
   ],
   "source": [
    "sum_of_number(1-23)\n"
   ]
  },
  {
   "cell_type": "code",
   "execution_count": 160,
   "id": "ac56fe8e-851e-4f0b-aa0d-548a631711ba",
   "metadata": {},
   "outputs": [
    {
     "name": "stdout",
     "output_type": "stream",
     "text": [
      "file error [Errno 2] No such file or directory: 'pracce.txt'\n"
     ]
    }
   ],
   "source": [
    "# Practice\n",
    "def analyse_file(filename):\n",
    "    try:\n",
    "        with open(filename, 'r') as f:\n",
    "            lines=f.readlines()\n",
    "            total_l=len(lines)\n",
    "            count=0\n",
    "            long_word=''\n",
    "            for each_line in lines:\n",
    "                total_w=each_line.split()\n",
    "                for each_word in total_w:\n",
    "                    count+=1\n",
    "                    if len(each_word)>len(long_word):\n",
    "                        long_word=each_word\n",
    "    except Exception as e:\n",
    "        print('file error', e)\n",
    "    else:\n",
    "        print('total lines', total_l)\n",
    "        print('total words', count)\n",
    "        print('Longest word', long_word)\n",
    "  \n",
    "            \n",
    "analyse_file('pracce.txt')"
   ]
  },
  {
   "cell_type": "code",
   "execution_count": 151,
   "id": "8af274e5-8a49-42a6-9a86-1e6016da1ef4",
   "metadata": {},
   "outputs": [
    {
     "data": {
      "text/plain": [
       "14"
      ]
     },
     "execution_count": 151,
     "metadata": {},
     "output_type": "execute_result"
    }
   ],
   "source": [
    "def analyse_file(filename):\n",
    "    with open(filename, 'r') as file:\n",
    "        lines = file.readlines()\n",
    "        lines_num=len(lines)\n",
    "        word_count=0\n",
    "        longest_word=''\n",
    "        for each_line in lines:\n",
    "            total_words=each_line.split()\n",
    "            for each_word in total_words:\n",
    "                word_count+=1\n",
    "        return word_count\n",
    "analyse_file('practice.txt')"
   ]
  },
  {
   "cell_type": "code",
   "execution_count": null,
   "id": "2171a053-9bf6-4ae0-abb4-7b24162fd2f8",
   "metadata": {},
   "outputs": [],
   "source": []
  }
 ],
 "metadata": {
  "kernelspec": {
   "display_name": "Python 3 (ipykernel)",
   "language": "python",
   "name": "python3"
  },
  "language_info": {
   "codemirror_mode": {
    "name": "ipython",
    "version": 3
   },
   "file_extension": ".py",
   "mimetype": "text/x-python",
   "name": "python",
   "nbconvert_exporter": "python",
   "pygments_lexer": "ipython3",
   "version": "3.13.0"
  }
 },
 "nbformat": 4,
 "nbformat_minor": 5
}
